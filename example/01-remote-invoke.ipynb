{
 "cells": [
  {
   "cell_type": "code",
   "execution_count": 3,
   "metadata": {},
   "outputs": [
    {
     "name": "stdout",
     "output_type": "stream",
     "text": [
      " 물론이죠, 도와드리겠습니다! \n",
      "\n",
      "딥러닝은 신경망을 기반으로 한 기계 학습의 하위 분야로, 인공 지능 분야에서 매우 강력한 도구입니다. 이는 인간 두뇌의 정보 처리 능력을 모방한 복잡한 알고리즘을 사용하여 대량의 데이터를 분석하고 패턴을 찾으며, 이를 통해 시스템이 점차적으로 학습하고 성능을 향상시킬 수 있습니다.\n",
      "\n",
      "기본적인 수준에서 딥러닝은 입력 데이터의 층을 순차적으로 처리하는 신경망인 다층 퍼셉트론을 포함합니다. 이 층들은 '신경세포' 또는 뉴런으로 구성되어 있으며, 서로 연결되어 있어 데이터 간의 복잡한 관계를 학습할 수 있습니다.\n",
      "\n",
      "이 시스템들은 대량의 훈련 데이터를 사용하여 패턴과 추세를 찾아내고 예측을 할 수 있는 능력을 향상시킬 수 있습니다. 또한 새로운 데이터에 노출됨으로써 점차적으로 개선되는 '급속한 적응' 능력을 가지고 있어 다양한 분야에 적용하기에 이상적인 기술입니다.\n",
      "\n",
      "딥러닝의 응용 분야에는 다음과 같은 것들이 포함됩니다:\n",
      "\n",
      "1. 이미지 인식: 컴퓨터 시스템이 이미지를 이해하고 분류하며 분석하고 생성할 수 있게 합니다.\n",
      "2. 자연어 처리: 컴퓨터가 인간의 언어를 해석하고 이해할 수 있게 하여 번역, 요약, 감정 분석과 같은 작업을 가능하게 합니다.\n",
      "3. 음성 인식: 컴퓨터가 음성을 인식하고 이해할 수 있게 하며, 가상 비서 및 스마트 시스"
     ]
    },
    {
     "ename": "HTTPStatusError",
     "evalue": "Internal Server Error",
     "output_type": "error",
     "traceback": [
      "\u001b[1;31m---------------------------------------------------------------------------\u001b[0m",
      "\u001b[1;31mHTTPStatusError\u001b[0m                           Traceback (most recent call last)",
      "\u001b[1;32m~\\AppData\\Local\\Temp\\ipykernel_29620\\1067301377.py\u001b[0m in \u001b[0;36m<module>\u001b[1;34m\u001b[0m\n\u001b[0;32m      7\u001b[0m \u001b[1;31m# chain = RemoteRunnable(\"http://0.0.0.0:8000/prompt/\")\u001b[0m\u001b[1;33m\u001b[0m\u001b[1;33m\u001b[0m\u001b[0m\n\u001b[0;32m      8\u001b[0m \u001b[1;33m\u001b[0m\u001b[0m\n\u001b[1;32m----> 9\u001b[1;33m \u001b[1;32mfor\u001b[0m \u001b[0mtoken\u001b[0m \u001b[1;32min\u001b[0m \u001b[0mchain\u001b[0m\u001b[1;33m.\u001b[0m\u001b[0mstream\u001b[0m\u001b[1;33m(\u001b[0m\u001b[1;33m{\u001b[0m\u001b[1;34m\"topic\"\u001b[0m\u001b[1;33m:\u001b[0m \u001b[1;34m\"딥러닝에 대해서 알려줘\"\u001b[0m\u001b[1;33m}\u001b[0m\u001b[1;33m)\u001b[0m\u001b[1;33m:\u001b[0m\u001b[1;33m\u001b[0m\u001b[1;33m\u001b[0m\u001b[0m\n\u001b[0m\u001b[0;32m     10\u001b[0m     \u001b[0mprint\u001b[0m\u001b[1;33m(\u001b[0m\u001b[0mtoken\u001b[0m\u001b[1;33m,\u001b[0m \u001b[0mend\u001b[0m\u001b[1;33m=\u001b[0m\u001b[1;34m\"\"\u001b[0m\u001b[1;33m)\u001b[0m\u001b[1;33m\u001b[0m\u001b[1;33m\u001b[0m\u001b[0m\n",
      "\u001b[1;32mc:\\Users\\wjdwn\\anaconda3\\lib\\site-packages\\langserve\\client.py\u001b[0m in \u001b[0;36mstream\u001b[1;34m(self, input, config, **kwargs)\u001b[0m\n\u001b[0;32m    559\u001b[0m                     \u001b[1;32melif\u001b[0m \u001b[0msse\u001b[0m\u001b[1;33m[\u001b[0m\u001b[1;34m\"event\"\u001b[0m\u001b[1;33m]\u001b[0m \u001b[1;33m==\u001b[0m \u001b[1;34m\"error\"\u001b[0m\u001b[1;33m:\u001b[0m\u001b[1;33m\u001b[0m\u001b[1;33m\u001b[0m\u001b[0m\n\u001b[0;32m    560\u001b[0m                         \u001b[1;31m# This can only be a server side error\u001b[0m\u001b[1;33m\u001b[0m\u001b[1;33m\u001b[0m\u001b[0m\n\u001b[1;32m--> 561\u001b[1;33m                         _raise_exception_from_data(\n\u001b[0m\u001b[0;32m    562\u001b[0m                             \u001b[0msse\u001b[0m\u001b[1;33m[\u001b[0m\u001b[1;34m\"data\"\u001b[0m\u001b[1;33m]\u001b[0m\u001b[1;33m,\u001b[0m \u001b[0mhttpx\u001b[0m\u001b[1;33m.\u001b[0m\u001b[0mRequest\u001b[0m\u001b[1;33m(\u001b[0m\u001b[0mmethod\u001b[0m\u001b[1;33m=\u001b[0m\u001b[1;34m\"POST\"\u001b[0m\u001b[1;33m,\u001b[0m \u001b[0murl\u001b[0m\u001b[1;33m=\u001b[0m\u001b[0mendpoint\u001b[0m\u001b[1;33m)\u001b[0m\u001b[1;33m\u001b[0m\u001b[1;33m\u001b[0m\u001b[0m\n\u001b[0;32m    563\u001b[0m                         )\n",
      "\u001b[1;32mc:\\Users\\wjdwn\\anaconda3\\lib\\site-packages\\langserve\\client.py\u001b[0m in \u001b[0;36m_raise_exception_from_data\u001b[1;34m(data, request)\u001b[0m\n\u001b[0;32m    211\u001b[0m             \u001b[0mresponse\u001b[0m\u001b[1;33m=\u001b[0m\u001b[0mhttpx\u001b[0m\u001b[1;33m.\u001b[0m\u001b[0mResponse\u001b[0m\u001b[1;33m(\u001b[0m\u001b[0mstatus_code\u001b[0m\u001b[1;33m=\u001b[0m\u001b[1;36m500\u001b[0m\u001b[1;33m,\u001b[0m \u001b[0mtext\u001b[0m\u001b[1;33m=\u001b[0m\u001b[0mdata\u001b[0m\u001b[1;33m)\u001b[0m\u001b[1;33m,\u001b[0m\u001b[1;33m\u001b[0m\u001b[1;33m\u001b[0m\u001b[0m\n\u001b[0;32m    212\u001b[0m         )\n\u001b[1;32m--> 213\u001b[1;33m     raise httpx.HTTPStatusError(\n\u001b[0m\u001b[0;32m    214\u001b[0m         \u001b[0mmessage\u001b[0m\u001b[1;33m=\u001b[0m\u001b[0mdecoded_data\u001b[0m\u001b[1;33m[\u001b[0m\u001b[1;34m\"message\"\u001b[0m\u001b[1;33m]\u001b[0m\u001b[1;33m,\u001b[0m\u001b[1;33m\u001b[0m\u001b[1;33m\u001b[0m\u001b[0m\n\u001b[0;32m    215\u001b[0m         \u001b[0mrequest\u001b[0m\u001b[1;33m=\u001b[0m\u001b[0m_sanitize_request\u001b[0m\u001b[1;33m(\u001b[0m\u001b[0mrequest\u001b[0m\u001b[1;33m)\u001b[0m\u001b[1;33m,\u001b[0m\u001b[1;33m\u001b[0m\u001b[1;33m\u001b[0m\u001b[0m\n",
      "\u001b[1;31mHTTPStatusError\u001b[0m: Internal Server Error"
     ]
    }
   ],
   "source": [
    "from langserve import RemoteRunnable\n",
    "\n",
    "# ngrok remote 주소 설정\n",
    "\n",
    "chain = RemoteRunnable(\"https://dashing-collie-uncommon.ngrok-free.app/prompt/\")\n",
    "# chain = RemoteRunnable(\"https://poodle-deep-marmot.ngrok-free.app/prompt/\")\n",
    "# chain = RemoteRunnable(\"http://0.0.0.0:8000/prompt/\")\n",
    "\n",
    "for token in chain.stream({\"topic\": \"딥러닝에 대해서 알려줘\"}):\n",
    "    print(token, end=\"\")"
   ]
  }
 ],
 "metadata": {
  "kernelspec": {
   "display_name": "py-test",
   "language": "python",
   "name": "python3"
  },
  "language_info": {
   "codemirror_mode": {
    "name": "ipython",
    "version": 3
   },
   "file_extension": ".py",
   "mimetype": "text/x-python",
   "name": "python",
   "nbconvert_exporter": "python",
   "pygments_lexer": "ipython3",
   "version": "3.9.19"
  }
 },
 "nbformat": 4,
 "nbformat_minor": 2
}
